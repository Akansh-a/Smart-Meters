{
 "cells": [
  {
   "cell_type": "markdown",
   "metadata": {},
   "source": [
    "# Importing libraries"
   ]
  },
  {
   "cell_type": "code",
   "execution_count": 1,
   "metadata": {},
   "outputs": [],
   "source": [
    "%matplotlib inline\n",
    "import pandas as pd\n",
    "import numpy as np\n",
    "import re\n",
    "import matplotlib.pyplot as plt"
   ]
  },
  {
   "cell_type": "code",
   "execution_count": 2,
   "metadata": {},
   "outputs": [],
   "source": [
    "# Importing sklearn modules\n",
    "from sklearn.model_selection import train_test_split\n",
    "from sklearn.linear_model import LinearRegression\n",
    "from sklearn.neighbors import KNeighborsRegressor\n",
    "from sklearn.model_selection import cross_val_score\n",
    "from sklearn.feature_selection import SelectKBest\n",
    "from sklearn.feature_selection import chi2\n",
    "from sklearn.feature_selection import RFE\n",
    "from sklearn.linear_model import LogisticRegression\n",
    "from sklearn import preprocessing\n",
    "from sklearn.preprocessing import LabelEncoder\n",
    "from sklearn.metrics import mean_squared_error, mean_absolute_error\n",
    "from sklearn.model_selection import RepeatedKFold\n",
    "from sklearn.linear_model import Ridge"
   ]
  },
  {
   "cell_type": "markdown",
   "metadata": {},
   "source": [
    "# Using loaded variables"
   ]
  },
  {
   "cell_type": "code",
   "execution_count": 3,
   "metadata": {},
   "outputs": [
    {
     "name": "stdout",
     "output_type": "stream",
     "text": [
      "Loaded variables\n"
     ]
    }
   ],
   "source": [
    "%run \"./../1.Load Codes/1.1 Variables.ipynb\""
   ]
  },
  {
   "cell_type": "markdown",
   "metadata": {},
   "source": [
    "# Loading data from previous modules"
   ]
  },
  {
   "cell_type": "code",
   "execution_count": 4,
   "metadata": {},
   "outputs": [],
   "source": [
    "import pickle\n",
    "\n",
    "files_data = pickle.load(open(home_path + '/1.Load Codes/files.pickle',\"rb\"))\n",
    "acorn_data = files_data['acorn_data']\n",
    "energy_data = files_data['energy_data']\n",
    "households_data = files_data['households_data']\n",
    "weather_data = files_data['weather_data']"
   ]
  },
  {
   "cell_type": "markdown",
   "metadata": {},
   "source": [
    "# Feature Extraction : Using this technique to outline/extract the Important features for training the model"
   ]
  },
  {
   "cell_type": "code",
   "execution_count": 5,
   "metadata": {},
   "outputs": [],
   "source": [
    "# Adding all the features of the dataset.\n",
    "\n",
    "energy_data_ml = energy_data[['LCLid', 'day','energy_sum']]\n",
    "households_data_ml = households_data[['LCLid', 'stdorToU', 'Acorn', 'Acorn_grouped']]\n",
    "weather_data_ml = weather_data[['temperatureMax', 'windBearing','icon','dewPoint','cloudCover',\n",
    " 'windSpeed','pressure','precipType','visibility','humidity','apparentTemperatureMax','uvIndex','summary',\n",
    " 'moonPhase','day']]"
   ]
  },
  {
   "cell_type": "code",
   "execution_count": 6,
   "metadata": {},
   "outputs": [
    {
     "name": "stderr",
     "output_type": "stream",
     "text": [
      "/opt/anaconda3/lib/python3.8/site-packages/pandas/core/indexing.py:1745: SettingWithCopyWarning: \n",
      "A value is trying to be set on a copy of a slice from a DataFrame.\n",
      "Try using .loc[row_indexer,col_indexer] = value instead\n",
      "\n",
      "See the caveats in the documentation: https://pandas.pydata.org/pandas-docs/stable/user_guide/indexing.html#returning-a-view-versus-a-copy\n",
      "  isetter(ilocs[0], value)\n"
     ]
    }
   ],
   "source": [
    "energy_data_ml.loc[:,'day']=  pd.to_datetime(energy_data_ml['day']).dt.date"
   ]
  },
  {
   "cell_type": "code",
   "execution_count": 7,
   "metadata": {},
   "outputs": [],
   "source": [
    "# Combining the three tables i.e energy data , houselhold data and weather data to form a single dataset for feature extraction\n",
    "\n",
    "combined_ml_dataset = pd.merge(energy_data_ml, households_data_ml, on = 'LCLid')\n",
    "combined_ml_dataset = pd.merge(combined_ml_dataset, weather_data_ml, on = 'day')\n",
    "combined_ml_dataset = combined_ml_dataset.head(50000)"
   ]
  },
  {
   "cell_type": "code",
   "execution_count": 8,
   "metadata": {},
   "outputs": [],
   "source": [
    "# Segregate the data into separate variables so that the features and the labels are separated.\n",
    "\n",
    "combined_ml_x = combined_ml_dataset.drop(['energy_sum'], axis = 1)\n",
    "combined_ml_y = combined_ml_dataset['energy_sum']\n",
    "combined_ml_y = combined_ml_y.astype('int')"
   ]
  },
  {
   "cell_type": "code",
   "execution_count": 9,
   "metadata": {},
   "outputs": [],
   "source": [
    "# Changing the format for dayOfYear and converting LCLid from string to integer variables.\n",
    "\n",
    "combined_ml_x['dayOfYear'] = pd.to_datetime(combined_ml_x['day']).dt.dayofyear\n",
    "combined_ml_x['LCLid'] = combined_ml_dataset['LCLid'].str.findall(\"\\d+\").explode().astype(int)"
   ]
  },
  {
   "cell_type": "code",
   "execution_count": 10,
   "metadata": {},
   "outputs": [],
   "source": [
    "# Converting Categorical values to numerical values using Label Encoder\n",
    "\n",
    "categories = ['stdorToU', 'Acorn', 'Acorn_grouped','icon','precipType','summary','day']\n",
    "labelencoder = LabelEncoder()\n",
    "for i in categories :\n",
    "    combined_ml_x[i +'_']= labelencoder.fit_transform(combined_ml_x[i])"
   ]
  },
  {
   "cell_type": "code",
   "execution_count": 11,
   "metadata": {},
   "outputs": [
    {
     "data": {
      "text/html": [
       "<div>\n",
       "<style scoped>\n",
       "    .dataframe tbody tr th:only-of-type {\n",
       "        vertical-align: middle;\n",
       "    }\n",
       "\n",
       "    .dataframe tbody tr th {\n",
       "        vertical-align: top;\n",
       "    }\n",
       "\n",
       "    .dataframe thead th {\n",
       "        text-align: right;\n",
       "    }\n",
       "</style>\n",
       "<table border=\"1\" class=\"dataframe\">\n",
       "  <thead>\n",
       "    <tr style=\"text-align: right;\">\n",
       "      <th></th>\n",
       "      <th>LCLid</th>\n",
       "      <th>day</th>\n",
       "      <th>stdorToU</th>\n",
       "      <th>Acorn</th>\n",
       "      <th>Acorn_grouped</th>\n",
       "      <th>temperatureMax</th>\n",
       "      <th>windBearing</th>\n",
       "      <th>icon</th>\n",
       "      <th>dewPoint</th>\n",
       "      <th>cloudCover</th>\n",
       "      <th>...</th>\n",
       "      <th>summary</th>\n",
       "      <th>moonPhase</th>\n",
       "      <th>dayOfYear</th>\n",
       "      <th>stdorToU_</th>\n",
       "      <th>Acorn_</th>\n",
       "      <th>Acorn_grouped_</th>\n",
       "      <th>icon_</th>\n",
       "      <th>precipType_</th>\n",
       "      <th>summary_</th>\n",
       "      <th>day_</th>\n",
       "    </tr>\n",
       "  </thead>\n",
       "  <tbody>\n",
       "    <tr>\n",
       "      <th>0</th>\n",
       "      <td>131</td>\n",
       "      <td>2011-12-15</td>\n",
       "      <td>Std</td>\n",
       "      <td>ACORN-E</td>\n",
       "      <td>Affluent</td>\n",
       "      <td>7.97</td>\n",
       "      <td>234</td>\n",
       "      <td>wind</td>\n",
       "      <td>2.41</td>\n",
       "      <td>0.42</td>\n",
       "      <td>...</td>\n",
       "      <td>Partly cloudy throughout the day and breezy in...</td>\n",
       "      <td>0.66</td>\n",
       "      <td>349</td>\n",
       "      <td>0</td>\n",
       "      <td>4</td>\n",
       "      <td>2</td>\n",
       "      <td>4</td>\n",
       "      <td>0</td>\n",
       "      <td>15</td>\n",
       "      <td>0</td>\n",
       "    </tr>\n",
       "    <tr>\n",
       "      <th>1</th>\n",
       "      <td>132</td>\n",
       "      <td>2011-12-15</td>\n",
       "      <td>Std</td>\n",
       "      <td>ACORN-E</td>\n",
       "      <td>Affluent</td>\n",
       "      <td>7.97</td>\n",
       "      <td>234</td>\n",
       "      <td>wind</td>\n",
       "      <td>2.41</td>\n",
       "      <td>0.42</td>\n",
       "      <td>...</td>\n",
       "      <td>Partly cloudy throughout the day and breezy in...</td>\n",
       "      <td>0.66</td>\n",
       "      <td>349</td>\n",
       "      <td>0</td>\n",
       "      <td>4</td>\n",
       "      <td>2</td>\n",
       "      <td>4</td>\n",
       "      <td>0</td>\n",
       "      <td>15</td>\n",
       "      <td>0</td>\n",
       "    </tr>\n",
       "    <tr>\n",
       "      <th>2</th>\n",
       "      <td>221</td>\n",
       "      <td>2011-12-15</td>\n",
       "      <td>Std</td>\n",
       "      <td>ACORN-E</td>\n",
       "      <td>Affluent</td>\n",
       "      <td>7.97</td>\n",
       "      <td>234</td>\n",
       "      <td>wind</td>\n",
       "      <td>2.41</td>\n",
       "      <td>0.42</td>\n",
       "      <td>...</td>\n",
       "      <td>Partly cloudy throughout the day and breezy in...</td>\n",
       "      <td>0.66</td>\n",
       "      <td>349</td>\n",
       "      <td>0</td>\n",
       "      <td>4</td>\n",
       "      <td>2</td>\n",
       "      <td>4</td>\n",
       "      <td>0</td>\n",
       "      <td>15</td>\n",
       "      <td>0</td>\n",
       "    </tr>\n",
       "    <tr>\n",
       "      <th>3</th>\n",
       "      <td>228</td>\n",
       "      <td>2011-12-15</td>\n",
       "      <td>Std</td>\n",
       "      <td>ACORN-E</td>\n",
       "      <td>Affluent</td>\n",
       "      <td>7.97</td>\n",
       "      <td>234</td>\n",
       "      <td>wind</td>\n",
       "      <td>2.41</td>\n",
       "      <td>0.42</td>\n",
       "      <td>...</td>\n",
       "      <td>Partly cloudy throughout the day and breezy in...</td>\n",
       "      <td>0.66</td>\n",
       "      <td>349</td>\n",
       "      <td>0</td>\n",
       "      <td>4</td>\n",
       "      <td>2</td>\n",
       "      <td>4</td>\n",
       "      <td>0</td>\n",
       "      <td>15</td>\n",
       "      <td>0</td>\n",
       "    </tr>\n",
       "    <tr>\n",
       "      <th>4</th>\n",
       "      <td>234</td>\n",
       "      <td>2011-12-15</td>\n",
       "      <td>Std</td>\n",
       "      <td>ACORN-E</td>\n",
       "      <td>Affluent</td>\n",
       "      <td>7.97</td>\n",
       "      <td>234</td>\n",
       "      <td>wind</td>\n",
       "      <td>2.41</td>\n",
       "      <td>0.42</td>\n",
       "      <td>...</td>\n",
       "      <td>Partly cloudy throughout the day and breezy in...</td>\n",
       "      <td>0.66</td>\n",
       "      <td>349</td>\n",
       "      <td>0</td>\n",
       "      <td>4</td>\n",
       "      <td>2</td>\n",
       "      <td>4</td>\n",
       "      <td>0</td>\n",
       "      <td>15</td>\n",
       "      <td>0</td>\n",
       "    </tr>\n",
       "  </tbody>\n",
       "</table>\n",
       "<p>5 rows × 27 columns</p>\n",
       "</div>"
      ],
      "text/plain": [
       "   LCLid         day stdorToU    Acorn Acorn_grouped  temperatureMax  \\\n",
       "0    131  2011-12-15      Std  ACORN-E      Affluent            7.97   \n",
       "1    132  2011-12-15      Std  ACORN-E      Affluent            7.97   \n",
       "2    221  2011-12-15      Std  ACORN-E      Affluent            7.97   \n",
       "3    228  2011-12-15      Std  ACORN-E      Affluent            7.97   \n",
       "4    234  2011-12-15      Std  ACORN-E      Affluent            7.97   \n",
       "\n",
       "   windBearing  icon  dewPoint  cloudCover  ...  \\\n",
       "0          234  wind      2.41        0.42  ...   \n",
       "1          234  wind      2.41        0.42  ...   \n",
       "2          234  wind      2.41        0.42  ...   \n",
       "3          234  wind      2.41        0.42  ...   \n",
       "4          234  wind      2.41        0.42  ...   \n",
       "\n",
       "                                             summary  moonPhase dayOfYear  \\\n",
       "0  Partly cloudy throughout the day and breezy in...       0.66       349   \n",
       "1  Partly cloudy throughout the day and breezy in...       0.66       349   \n",
       "2  Partly cloudy throughout the day and breezy in...       0.66       349   \n",
       "3  Partly cloudy throughout the day and breezy in...       0.66       349   \n",
       "4  Partly cloudy throughout the day and breezy in...       0.66       349   \n",
       "\n",
       "   stdorToU_  Acorn_  Acorn_grouped_  icon_ precipType_  summary_  day_  \n",
       "0          0       4               2      4           0        15     0  \n",
       "1          0       4               2      4           0        15     0  \n",
       "2          0       4               2      4           0        15     0  \n",
       "3          0       4               2      4           0        15     0  \n",
       "4          0       4               2      4           0        15     0  \n",
       "\n",
       "[5 rows x 27 columns]"
      ]
     },
     "execution_count": 11,
     "metadata": {},
     "output_type": "execute_result"
    }
   ],
   "source": [
    "combined_ml_x.head()"
   ]
  },
  {
   "cell_type": "code",
   "execution_count": 12,
   "metadata": {},
   "outputs": [],
   "source": [
    "# Dropping the categorical values \n",
    "\n",
    "combined_ml_x = combined_ml_x.drop(categories, axis = 1)\n",
    "combined_ml_x= combined_ml_x.abs()"
   ]
  },
  {
   "cell_type": "code",
   "execution_count": 13,
   "metadata": {},
   "outputs": [],
   "source": [
    "# Splitting the dataset in test and train for extracting features from just the training set.\n",
    "\n",
    "X_train, X_test, y_train, y_test = train_test_split(combined_ml_x, combined_ml_y, test_size=0.20, random_state=42)"
   ]
  },
  {
   "cell_type": "code",
   "execution_count": 14,
   "metadata": {},
   "outputs": [],
   "source": [
    "X = X_train.values\n",
    "Y = y_train.values"
   ]
  },
  {
   "cell_type": "code",
   "execution_count": 15,
   "metadata": {},
   "outputs": [
    {
     "name": "stdout",
     "output_type": "stream",
     "text": [
      "[8.107e+05 7.240e+02 6.345e+03 3.541e+02 8.917e+00 1.241e+02 1.202e+01\n",
      " 1.222e+02 1.031e+00 8.721e+02 3.855e+01 2.771e+01 2.420e+04 2.375e+02\n",
      " 2.713e+03 1.895e+02 4.979e+01 2.285e+02 3.234e+02 2.622e+03]\n",
      "[[1.300e+02 1.115e+01 2.470e+02 6.440e+00 6.700e-01 3.680e+00 1.025e+03\n",
      "  1.109e+01 8.500e-01 1.115e+01 1.000e+00 1.800e-01 5.800e+01 0.000e+00\n",
      "  1.000e+01 1.000e+00 2.000e+00 0.000e+00 1.100e+01 7.400e+01]\n",
      " [1.060e+02 1.061e+01 2.840e+02 3.440e+00 5.100e-01 3.420e+00 1.027e+03\n",
      "  1.326e+01 7.400e-01 1.061e+01 1.000e+00 8.200e-01 4.700e+01 1.000e+00\n",
      "  1.100e+01 1.000e+00 2.000e+00 0.000e+00 1.600e+01 6.300e+01]\n",
      " [4.527e+03 9.370e+00 3.180e+02 1.700e-01 4.800e-01 8.010e+00 1.021e+03\n",
      "  1.307e+01 6.400e-01 5.560e+00 2.000e+00 4.000e-01 6.500e+01 0.000e+00\n",
      "  3.000e+00 2.000e+00 4.000e+00 0.000e+00 1.000e+00 8.100e+01]\n",
      " [1.010e+02 9.770e+00 2.280e+02 5.170e+00 6.000e-01 2.130e+00 1.019e+03\n",
      "  7.920e+00 9.500e-01 8.560e+00 1.000e+00 5.000e-02 2.400e+01 0.000e+00\n",
      "  1.100e+01 1.000e+00 2.000e+00 0.000e+00 1.100e+01 4.000e+01]\n",
      " [5.500e+01 1.151e+01 2.610e+02 7.160e+00 5.600e-01 5.230e+00 1.019e+03\n",
      "  1.133e+01 8.500e-01 1.151e+01 1.000e+00 8.700e-01 1.900e+01 0.000e+00\n",
      "  1.000e+01 1.000e+00 2.000e+00 0.000e+00 1.600e+01 3.500e+01]]\n"
     ]
    }
   ],
   "source": [
    "# Implementing a Chi-Squared statistical test for features to select the best features from the dataset. \n",
    "\n",
    "# Using SelectKBest from class scikit-learn library to select a specific number of features.\n",
    "\n",
    "test = SelectKBest(score_func=chi2, k='all')\n",
    "fit = test.fit(X, Y)\n",
    "\n",
    "# Summarize scores\n",
    "np.set_printoptions(precision=3)\n",
    "print(fit.scores_)\n",
    "\n",
    "features = fit.transform(X)\n",
    "# Summarize selected features\n",
    "print(features[0:5,:])"
   ]
  },
  {
   "cell_type": "markdown",
   "metadata": {},
   "source": [
    "# Feature Scaling"
   ]
  },
  {
   "cell_type": "code",
   "execution_count": 16,
   "metadata": {},
   "outputs": [],
   "source": [
    "# Using StandardScaler to scale all the feature values.\n",
    "\n",
    "scaler = preprocessing.StandardScaler().fit(features)\n",
    "X_scaled = scaler.transform(X)"
   ]
  },
  {
   "cell_type": "code",
   "execution_count": 17,
   "metadata": {
    "scrolled": true
   },
   "outputs": [
    {
     "name": "stderr",
     "output_type": "stream",
     "text": [
      "/opt/anaconda3/lib/python3.8/site-packages/sklearn/utils/validation.py:67: FutureWarning: Pass n_features_to_select=1 as keyword args. From version 0.25 passing these as positional arguments will result in an error\n",
      "  warnings.warn(\"Pass {} as keyword args. From version 0.25 \"\n"
     ]
    },
    {
     "name": "stdout",
     "output_type": "stream",
     "text": [
      "Feature Ranking: [ 2  5 13 14 19 15 10 18  8  6  7  4 20  9  1  3 17 12 16 11]\n"
     ]
    }
   ],
   "source": [
    "# Implementing Recursive Feature Elimination which is a type of wrapper feature selection method by recursively \n",
    "# removing attributes and building a model on those attributes that remain.\n",
    "# Using RFE with the Logistic Regression classifier to rank the features. \n",
    "\n",
    "model = LogisticRegression(max_iter=600)\n",
    "rfe = RFE(model, 1)\n",
    "fit = rfe.fit(X_scaled, Y)\n",
    "print(\"Feature Ranking: %s\" % (fit.ranking_))\n",
    "Selected_features = fit.support_\n",
    "Feature_Ranking = fit.ranking_"
   ]
  },
  {
   "cell_type": "code",
   "execution_count": 18,
   "metadata": {
    "scrolled": true
   },
   "outputs": [
    {
     "data": {
      "image/png": "[encoded data removed]",
      "text/plain": [
       "<Figure size 1440x504 with 1 Axes>"
      ]
     },
     "metadata": {
      "needs_background": "light"
     },
     "output_type": "display_data"
    }
   ],
   "source": [
    "#Ploting all the features using there ranking obtained from above.\n",
    "\n",
    "Features = list(combined_ml_x)  \n",
    "fig = plt.figure(figsize = (20, 7))\n",
    " \n",
    "# creating the bar plot\n",
    "plt.barh(Features, Feature_Ranking, color ='red')\n",
    "\n",
    "plt.xticks(np.arange(0, max(Feature_Ranking), 1))\n",
    "\n",
    "for index, value in enumerate(Feature_Ranking):\n",
    "    plt.text(value, index,\n",
    "             str(value))\n",
    "    \n",
    "plt.xlabel(\"Rank\",fontsize=18)\n",
    "plt.ylabel(\"Features\",fontsize=18)\n",
    "plt.title(\"Feature Ranking\",fontsize=18)\n",
    "plt.show()"
   ]
  },
  {
   "cell_type": "code",
   "execution_count": 19,
   "metadata": {},
   "outputs": [
    {
     "name": "stdout",
     "output_type": "stream",
     "text": [
      "('Acorn_', 1)\n",
      "('LCLid', 2)\n",
      "('Acorn_grouped_', 3)\n",
      "('moonPhase', 4)\n",
      "('temperatureMax', 5)\n",
      "('apparentTemperatureMax', 6)\n",
      "('uvIndex', 7)\n",
      "('humidity', 8)\n",
      "('stdorToU_', 9)\n",
      "('pressure', 10)\n"
     ]
    }
   ],
   "source": [
    "#Top 10 Features\n",
    "Feature_dic = {Features[i]: Feature_Ranking[i] for i in range(len(Features))}\n",
    "Sorted_features = [(key, value) for (key, value) in sorted(Feature_dic.items(), key=lambda x: x[1])]\n",
    "\n",
    "for x in list(Sorted_features)[0:10]:\n",
    "    print (x)\n"
   ]
  },
  {
   "cell_type": "markdown",
   "metadata": {},
   "source": [
    "# Using these top features to train the model. "
   ]
  },
  {
   "cell_type": "markdown",
   "metadata": {},
   "source": [
    "# Getting Dataset variables"
   ]
  },
  {
   "cell_type": "code",
   "execution_count": 20,
   "metadata": {},
   "outputs": [],
   "source": [
    "# Using these top features. \n",
    "\n",
    "energy_data_ml = energy_data[['LCLid','day','energy_sum']]\n",
    "households_data_ml = households_data[['LCLid', 'stdorToU', 'Acorn', 'Acorn_grouped']]\n",
    "weather_data_ml = weather_data[['moonPhase', 'temperatureMax', 'apparentTemperatureMax', 'uvIndex', 'humidity','pressure','day']]"
   ]
  },
  {
   "cell_type": "code",
   "execution_count": 21,
   "metadata": {},
   "outputs": [
    {
     "data": {
      "text/html": [
       "<div>\n",
       "<style scoped>\n",
       "    .dataframe tbody tr th:only-of-type {\n",
       "        vertical-align: middle;\n",
       "    }\n",
       "\n",
       "    .dataframe tbody tr th {\n",
       "        vertical-align: top;\n",
       "    }\n",
       "\n",
       "    .dataframe thead th {\n",
       "        text-align: right;\n",
       "    }\n",
       "</style>\n",
       "<table border=\"1\" class=\"dataframe\">\n",
       "  <thead>\n",
       "    <tr style=\"text-align: right;\">\n",
       "      <th></th>\n",
       "      <th>LCLid</th>\n",
       "      <th>day</th>\n",
       "      <th>energy_sum</th>\n",
       "    </tr>\n",
       "  </thead>\n",
       "  <tbody>\n",
       "    <tr>\n",
       "      <th>0</th>\n",
       "      <td>MAC000131</td>\n",
       "      <td>2011-12-15</td>\n",
       "      <td>9.505</td>\n",
       "    </tr>\n",
       "    <tr>\n",
       "      <th>1</th>\n",
       "      <td>MAC000131</td>\n",
       "      <td>2011-12-16</td>\n",
       "      <td>14.216</td>\n",
       "    </tr>\n",
       "    <tr>\n",
       "      <th>2</th>\n",
       "      <td>MAC000131</td>\n",
       "      <td>2011-12-17</td>\n",
       "      <td>9.111</td>\n",
       "    </tr>\n",
       "    <tr>\n",
       "      <th>3</th>\n",
       "      <td>MAC000131</td>\n",
       "      <td>2011-12-18</td>\n",
       "      <td>10.511</td>\n",
       "    </tr>\n",
       "    <tr>\n",
       "      <th>4</th>\n",
       "      <td>MAC000131</td>\n",
       "      <td>2011-12-19</td>\n",
       "      <td>15.647</td>\n",
       "    </tr>\n",
       "  </tbody>\n",
       "</table>\n",
       "</div>"
      ],
      "text/plain": [
       "       LCLid         day  energy_sum\n",
       "0  MAC000131  2011-12-15       9.505\n",
       "1  MAC000131  2011-12-16      14.216\n",
       "2  MAC000131  2011-12-17       9.111\n",
       "3  MAC000131  2011-12-18      10.511\n",
       "4  MAC000131  2011-12-19      15.647"
      ]
     },
     "execution_count": 21,
     "metadata": {},
     "output_type": "execute_result"
    }
   ],
   "source": [
    "energy_data_ml.head()"
   ]
  },
  {
   "cell_type": "code",
   "execution_count": 22,
   "metadata": {},
   "outputs": [
    {
     "data": {
      "text/html": [
       "<div>\n",
       "<style scoped>\n",
       "    .dataframe tbody tr th:only-of-type {\n",
       "        vertical-align: middle;\n",
       "    }\n",
       "\n",
       "    .dataframe tbody tr th {\n",
       "        vertical-align: top;\n",
       "    }\n",
       "\n",
       "    .dataframe thead th {\n",
       "        text-align: right;\n",
       "    }\n",
       "</style>\n",
       "<table border=\"1\" class=\"dataframe\">\n",
       "  <thead>\n",
       "    <tr style=\"text-align: right;\">\n",
       "      <th></th>\n",
       "      <th>LCLid</th>\n",
       "      <th>stdorToU</th>\n",
       "      <th>Acorn</th>\n",
       "      <th>Acorn_grouped</th>\n",
       "    </tr>\n",
       "  </thead>\n",
       "  <tbody>\n",
       "    <tr>\n",
       "      <th>2</th>\n",
       "      <td>MAC000002</td>\n",
       "      <td>Std</td>\n",
       "      <td>ACORN-A</td>\n",
       "      <td>Affluent</td>\n",
       "    </tr>\n",
       "    <tr>\n",
       "      <th>3</th>\n",
       "      <td>MAC003613</td>\n",
       "      <td>Std</td>\n",
       "      <td>ACORN-A</td>\n",
       "      <td>Affluent</td>\n",
       "    </tr>\n",
       "    <tr>\n",
       "      <th>4</th>\n",
       "      <td>MAC003597</td>\n",
       "      <td>Std</td>\n",
       "      <td>ACORN-A</td>\n",
       "      <td>Affluent</td>\n",
       "    </tr>\n",
       "    <tr>\n",
       "      <th>5</th>\n",
       "      <td>MAC003579</td>\n",
       "      <td>Std</td>\n",
       "      <td>ACORN-A</td>\n",
       "      <td>Affluent</td>\n",
       "    </tr>\n",
       "    <tr>\n",
       "      <th>6</th>\n",
       "      <td>MAC003566</td>\n",
       "      <td>Std</td>\n",
       "      <td>ACORN-A</td>\n",
       "      <td>Affluent</td>\n",
       "    </tr>\n",
       "  </tbody>\n",
       "</table>\n",
       "</div>"
      ],
      "text/plain": [
       "       LCLid stdorToU    Acorn Acorn_grouped\n",
       "2  MAC000002      Std  ACORN-A      Affluent\n",
       "3  MAC003613      Std  ACORN-A      Affluent\n",
       "4  MAC003597      Std  ACORN-A      Affluent\n",
       "5  MAC003579      Std  ACORN-A      Affluent\n",
       "6  MAC003566      Std  ACORN-A      Affluent"
      ]
     },
     "execution_count": 22,
     "metadata": {},
     "output_type": "execute_result"
    }
   ],
   "source": [
    "households_data_ml.head()"
   ]
  },
  {
   "cell_type": "code",
   "execution_count": 23,
   "metadata": {},
   "outputs": [
    {
     "data": {
      "text/html": [
       "<div>\n",
       "<style scoped>\n",
       "    .dataframe tbody tr th:only-of-type {\n",
       "        vertical-align: middle;\n",
       "    }\n",
       "\n",
       "    .dataframe tbody tr th {\n",
       "        vertical-align: top;\n",
       "    }\n",
       "\n",
       "    .dataframe thead th {\n",
       "        text-align: right;\n",
       "    }\n",
       "</style>\n",
       "<table border=\"1\" class=\"dataframe\">\n",
       "  <thead>\n",
       "    <tr style=\"text-align: right;\">\n",
       "      <th></th>\n",
       "      <th>moonPhase</th>\n",
       "      <th>temperatureMax</th>\n",
       "      <th>apparentTemperatureMax</th>\n",
       "      <th>uvIndex</th>\n",
       "      <th>humidity</th>\n",
       "      <th>pressure</th>\n",
       "      <th>day</th>\n",
       "    </tr>\n",
       "  </thead>\n",
       "  <tbody>\n",
       "    <tr>\n",
       "      <th>0</th>\n",
       "      <td>0.52</td>\n",
       "      <td>11.96</td>\n",
       "      <td>11.96</td>\n",
       "      <td>1.0</td>\n",
       "      <td>0.95</td>\n",
       "      <td>1016.08</td>\n",
       "      <td>2011-11-11</td>\n",
       "    </tr>\n",
       "    <tr>\n",
       "      <th>1</th>\n",
       "      <td>0.53</td>\n",
       "      <td>8.59</td>\n",
       "      <td>5.72</td>\n",
       "      <td>1.0</td>\n",
       "      <td>0.88</td>\n",
       "      <td>1007.71</td>\n",
       "      <td>2011-12-11</td>\n",
       "    </tr>\n",
       "    <tr>\n",
       "      <th>2</th>\n",
       "      <td>0.10</td>\n",
       "      <td>10.33</td>\n",
       "      <td>10.33</td>\n",
       "      <td>0.0</td>\n",
       "      <td>0.74</td>\n",
       "      <td>1032.76</td>\n",
       "      <td>2011-12-27</td>\n",
       "    </tr>\n",
       "    <tr>\n",
       "      <th>3</th>\n",
       "      <td>0.25</td>\n",
       "      <td>8.07</td>\n",
       "      <td>5.33</td>\n",
       "      <td>1.0</td>\n",
       "      <td>0.87</td>\n",
       "      <td>1012.12</td>\n",
       "      <td>2011-12-02</td>\n",
       "    </tr>\n",
       "    <tr>\n",
       "      <th>4</th>\n",
       "      <td>0.99</td>\n",
       "      <td>8.22</td>\n",
       "      <td>5.32</td>\n",
       "      <td>1.0</td>\n",
       "      <td>0.80</td>\n",
       "      <td>1028.17</td>\n",
       "      <td>2011-12-24</td>\n",
       "    </tr>\n",
       "  </tbody>\n",
       "</table>\n",
       "</div>"
      ],
      "text/plain": [
       "   moonPhase  temperatureMax  apparentTemperatureMax  uvIndex  humidity  \\\n",
       "0       0.52           11.96                   11.96      1.0      0.95   \n",
       "1       0.53            8.59                    5.72      1.0      0.88   \n",
       "2       0.10           10.33                   10.33      0.0      0.74   \n",
       "3       0.25            8.07                    5.33      1.0      0.87   \n",
       "4       0.99            8.22                    5.32      1.0      0.80   \n",
       "\n",
       "   pressure         day  \n",
       "0   1016.08  2011-11-11  \n",
       "1   1007.71  2011-12-11  \n",
       "2   1032.76  2011-12-27  \n",
       "3   1012.12  2011-12-02  \n",
       "4   1028.17  2011-12-24  "
      ]
     },
     "execution_count": 23,
     "metadata": {},
     "output_type": "execute_result"
    }
   ],
   "source": [
    "weather_data_ml.head()"
   ]
  },
  {
   "cell_type": "code",
   "execution_count": 24,
   "metadata": {},
   "outputs": [
    {
     "name": "stderr",
     "output_type": "stream",
     "text": [
      "/opt/anaconda3/lib/python3.8/site-packages/pandas/core/indexing.py:1745: SettingWithCopyWarning: \n",
      "A value is trying to be set on a copy of a slice from a DataFrame.\n",
      "Try using .loc[row_indexer,col_indexer] = value instead\n",
      "\n",
      "See the caveats in the documentation: https://pandas.pydata.org/pandas-docs/stable/user_guide/indexing.html#returning-a-view-versus-a-copy\n",
      "  isetter(ilocs[0], value)\n"
     ]
    }
   ],
   "source": [
    "energy_data_ml.loc[:,'day']=  pd.to_datetime(energy_data_ml['day']).dt.date"
   ]
  },
  {
   "cell_type": "code",
   "execution_count": 25,
   "metadata": {},
   "outputs": [],
   "source": [
    "# Combining the three tables i.e energy data , houselhold data and weather data to form a single dataset for feature extraction\n",
    "\n",
    "combined_ml_dataset = pd.merge(energy_data_ml, households_data_ml, on = 'LCLid')\n",
    "combined_ml_dataset = pd.merge(combined_ml_dataset, weather_data_ml, on = 'day')\n",
    "combined_ml_dataset = combined_ml_dataset.head(50000)"
   ]
  },
  {
   "cell_type": "code",
   "execution_count": 26,
   "metadata": {},
   "outputs": [
    {
     "data": {
      "text/html": [
       "<div>\n",
       "<style scoped>\n",
       "    .dataframe tbody tr th:only-of-type {\n",
       "        vertical-align: middle;\n",
       "    }\n",
       "\n",
       "    .dataframe tbody tr th {\n",
       "        vertical-align: top;\n",
       "    }\n",
       "\n",
       "    .dataframe thead th {\n",
       "        text-align: right;\n",
       "    }\n",
       "</style>\n",
       "<table border=\"1\" class=\"dataframe\">\n",
       "  <thead>\n",
       "    <tr style=\"text-align: right;\">\n",
       "      <th></th>\n",
       "      <th>LCLid</th>\n",
       "      <th>day</th>\n",
       "      <th>energy_sum</th>\n",
       "      <th>stdorToU</th>\n",
       "      <th>Acorn</th>\n",
       "      <th>Acorn_grouped</th>\n",
       "      <th>moonPhase</th>\n",
       "      <th>temperatureMax</th>\n",
       "      <th>apparentTemperatureMax</th>\n",
       "      <th>uvIndex</th>\n",
       "      <th>humidity</th>\n",
       "      <th>pressure</th>\n",
       "    </tr>\n",
       "  </thead>\n",
       "  <tbody>\n",
       "    <tr>\n",
       "      <th>0</th>\n",
       "      <td>MAC000131</td>\n",
       "      <td>2011-12-15</td>\n",
       "      <td>9.505</td>\n",
       "      <td>Std</td>\n",
       "      <td>ACORN-E</td>\n",
       "      <td>Affluent</td>\n",
       "      <td>0.66</td>\n",
       "      <td>7.97</td>\n",
       "      <td>4.38</td>\n",
       "      <td>1.0</td>\n",
       "      <td>0.77</td>\n",
       "      <td>996.75</td>\n",
       "    </tr>\n",
       "    <tr>\n",
       "      <th>1</th>\n",
       "      <td>MAC000132</td>\n",
       "      <td>2011-12-15</td>\n",
       "      <td>9.578</td>\n",
       "      <td>Std</td>\n",
       "      <td>ACORN-E</td>\n",
       "      <td>Affluent</td>\n",
       "      <td>0.66</td>\n",
       "      <td>7.97</td>\n",
       "      <td>4.38</td>\n",
       "      <td>1.0</td>\n",
       "      <td>0.77</td>\n",
       "      <td>996.75</td>\n",
       "    </tr>\n",
       "    <tr>\n",
       "      <th>2</th>\n",
       "      <td>MAC000221</td>\n",
       "      <td>2011-12-15</td>\n",
       "      <td>21.145</td>\n",
       "      <td>Std</td>\n",
       "      <td>ACORN-E</td>\n",
       "      <td>Affluent</td>\n",
       "      <td>0.66</td>\n",
       "      <td>7.97</td>\n",
       "      <td>4.38</td>\n",
       "      <td>1.0</td>\n",
       "      <td>0.77</td>\n",
       "      <td>996.75</td>\n",
       "    </tr>\n",
       "    <tr>\n",
       "      <th>3</th>\n",
       "      <td>MAC000228</td>\n",
       "      <td>2011-12-15</td>\n",
       "      <td>9.778</td>\n",
       "      <td>Std</td>\n",
       "      <td>ACORN-E</td>\n",
       "      <td>Affluent</td>\n",
       "      <td>0.66</td>\n",
       "      <td>7.97</td>\n",
       "      <td>4.38</td>\n",
       "      <td>1.0</td>\n",
       "      <td>0.77</td>\n",
       "      <td>996.75</td>\n",
       "    </tr>\n",
       "    <tr>\n",
       "      <th>4</th>\n",
       "      <td>MAC000234</td>\n",
       "      <td>2011-12-15</td>\n",
       "      <td>25.918</td>\n",
       "      <td>Std</td>\n",
       "      <td>ACORN-E</td>\n",
       "      <td>Affluent</td>\n",
       "      <td>0.66</td>\n",
       "      <td>7.97</td>\n",
       "      <td>4.38</td>\n",
       "      <td>1.0</td>\n",
       "      <td>0.77</td>\n",
       "      <td>996.75</td>\n",
       "    </tr>\n",
       "  </tbody>\n",
       "</table>\n",
       "</div>"
      ],
      "text/plain": [
       "       LCLid         day  energy_sum stdorToU    Acorn Acorn_grouped  \\\n",
       "0  MAC000131  2011-12-15       9.505      Std  ACORN-E      Affluent   \n",
       "1  MAC000132  2011-12-15       9.578      Std  ACORN-E      Affluent   \n",
       "2  MAC000221  2011-12-15      21.145      Std  ACORN-E      Affluent   \n",
       "3  MAC000228  2011-12-15       9.778      Std  ACORN-E      Affluent   \n",
       "4  MAC000234  2011-12-15      25.918      Std  ACORN-E      Affluent   \n",
       "\n",
       "   moonPhase  temperatureMax  apparentTemperatureMax  uvIndex  humidity  \\\n",
       "0       0.66            7.97                    4.38      1.0      0.77   \n",
       "1       0.66            7.97                    4.38      1.0      0.77   \n",
       "2       0.66            7.97                    4.38      1.0      0.77   \n",
       "3       0.66            7.97                    4.38      1.0      0.77   \n",
       "4       0.66            7.97                    4.38      1.0      0.77   \n",
       "\n",
       "   pressure  \n",
       "0    996.75  \n",
       "1    996.75  \n",
       "2    996.75  \n",
       "3    996.75  \n",
       "4    996.75  "
      ]
     },
     "execution_count": 26,
     "metadata": {},
     "output_type": "execute_result"
    }
   ],
   "source": [
    "combined_ml_dataset.head()"
   ]
  },
  {
   "cell_type": "code",
   "execution_count": 27,
   "metadata": {},
   "outputs": [],
   "source": [
    "# Segregate the data into separate variables so that the features and the labels are separated.\n",
    "\n",
    "combined_ml_x = combined_ml_dataset.drop(['energy_sum'], axis = 1)\n",
    "combined_ml_y = combined_ml_dataset['energy_sum']\n",
    "combined_ml_y = combined_ml_y.astype('int')"
   ]
  },
  {
   "cell_type": "code",
   "execution_count": 28,
   "metadata": {},
   "outputs": [],
   "source": [
    "combined_ml_x['dayOfYear'] = pd.to_datetime(combined_ml_x['day']).dt.dayofyear"
   ]
  },
  {
   "cell_type": "markdown",
   "metadata": {},
   "source": [
    "# Converting Strings to numerical values"
   ]
  },
  {
   "cell_type": "code",
   "execution_count": 29,
   "metadata": {},
   "outputs": [],
   "source": [
    "combined_ml_x['LCLid'] = combined_ml_dataset['LCLid'].str.findall(\"\\d+\").explode().astype(int)"
   ]
  },
  {
   "cell_type": "markdown",
   "metadata": {},
   "source": [
    "# Encoding Labeled Class Columns to Numeric Values"
   ]
  },
  {
   "cell_type": "code",
   "execution_count": 30,
   "metadata": {},
   "outputs": [],
   "source": [
    "categories = ['stdorToU', 'Acorn', 'Acorn_grouped','day']\n",
    "labelencoder = LabelEncoder()\n",
    "for i in categories :\n",
    "    combined_ml_x[i +'_']= labelencoder.fit_transform(combined_ml_x[i])"
   ]
  },
  {
   "cell_type": "code",
   "execution_count": 31,
   "metadata": {},
   "outputs": [
    {
     "data": {
      "text/html": [
       "<div>\n",
       "<style scoped>\n",
       "    .dataframe tbody tr th:only-of-type {\n",
       "        vertical-align: middle;\n",
       "    }\n",
       "\n",
       "    .dataframe tbody tr th {\n",
       "        vertical-align: top;\n",
       "    }\n",
       "\n",
       "    .dataframe thead th {\n",
       "        text-align: right;\n",
       "    }\n",
       "</style>\n",
       "<table border=\"1\" class=\"dataframe\">\n",
       "  <thead>\n",
       "    <tr style=\"text-align: right;\">\n",
       "      <th></th>\n",
       "      <th>LCLid</th>\n",
       "      <th>day</th>\n",
       "      <th>stdorToU</th>\n",
       "      <th>Acorn</th>\n",
       "      <th>Acorn_grouped</th>\n",
       "      <th>moonPhase</th>\n",
       "      <th>temperatureMax</th>\n",
       "      <th>apparentTemperatureMax</th>\n",
       "      <th>uvIndex</th>\n",
       "      <th>humidity</th>\n",
       "      <th>pressure</th>\n",
       "      <th>dayOfYear</th>\n",
       "      <th>stdorToU_</th>\n",
       "      <th>Acorn_</th>\n",
       "      <th>Acorn_grouped_</th>\n",
       "      <th>day_</th>\n",
       "    </tr>\n",
       "  </thead>\n",
       "  <tbody>\n",
       "    <tr>\n",
       "      <th>0</th>\n",
       "      <td>131</td>\n",
       "      <td>2011-12-15</td>\n",
       "      <td>Std</td>\n",
       "      <td>ACORN-E</td>\n",
       "      <td>Affluent</td>\n",
       "      <td>0.66</td>\n",
       "      <td>7.97</td>\n",
       "      <td>4.38</td>\n",
       "      <td>1.0</td>\n",
       "      <td>0.77</td>\n",
       "      <td>996.75</td>\n",
       "      <td>349</td>\n",
       "      <td>0</td>\n",
       "      <td>4</td>\n",
       "      <td>2</td>\n",
       "      <td>0</td>\n",
       "    </tr>\n",
       "    <tr>\n",
       "      <th>1</th>\n",
       "      <td>132</td>\n",
       "      <td>2011-12-15</td>\n",
       "      <td>Std</td>\n",
       "      <td>ACORN-E</td>\n",
       "      <td>Affluent</td>\n",
       "      <td>0.66</td>\n",
       "      <td>7.97</td>\n",
       "      <td>4.38</td>\n",
       "      <td>1.0</td>\n",
       "      <td>0.77</td>\n",
       "      <td>996.75</td>\n",
       "      <td>349</td>\n",
       "      <td>0</td>\n",
       "      <td>4</td>\n",
       "      <td>2</td>\n",
       "      <td>0</td>\n",
       "    </tr>\n",
       "    <tr>\n",
       "      <th>2</th>\n",
       "      <td>221</td>\n",
       "      <td>2011-12-15</td>\n",
       "      <td>Std</td>\n",
       "      <td>ACORN-E</td>\n",
       "      <td>Affluent</td>\n",
       "      <td>0.66</td>\n",
       "      <td>7.97</td>\n",
       "      <td>4.38</td>\n",
       "      <td>1.0</td>\n",
       "      <td>0.77</td>\n",
       "      <td>996.75</td>\n",
       "      <td>349</td>\n",
       "      <td>0</td>\n",
       "      <td>4</td>\n",
       "      <td>2</td>\n",
       "      <td>0</td>\n",
       "    </tr>\n",
       "    <tr>\n",
       "      <th>3</th>\n",
       "      <td>228</td>\n",
       "      <td>2011-12-15</td>\n",
       "      <td>Std</td>\n",
       "      <td>ACORN-E</td>\n",
       "      <td>Affluent</td>\n",
       "      <td>0.66</td>\n",
       "      <td>7.97</td>\n",
       "      <td>4.38</td>\n",
       "      <td>1.0</td>\n",
       "      <td>0.77</td>\n",
       "      <td>996.75</td>\n",
       "      <td>349</td>\n",
       "      <td>0</td>\n",
       "      <td>4</td>\n",
       "      <td>2</td>\n",
       "      <td>0</td>\n",
       "    </tr>\n",
       "    <tr>\n",
       "      <th>4</th>\n",
       "      <td>234</td>\n",
       "      <td>2011-12-15</td>\n",
       "      <td>Std</td>\n",
       "      <td>ACORN-E</td>\n",
       "      <td>Affluent</td>\n",
       "      <td>0.66</td>\n",
       "      <td>7.97</td>\n",
       "      <td>4.38</td>\n",
       "      <td>1.0</td>\n",
       "      <td>0.77</td>\n",
       "      <td>996.75</td>\n",
       "      <td>349</td>\n",
       "      <td>0</td>\n",
       "      <td>4</td>\n",
       "      <td>2</td>\n",
       "      <td>0</td>\n",
       "    </tr>\n",
       "  </tbody>\n",
       "</table>\n",
       "</div>"
      ],
      "text/plain": [
       "   LCLid         day stdorToU    Acorn Acorn_grouped  moonPhase  \\\n",
       "0    131  2011-12-15      Std  ACORN-E      Affluent       0.66   \n",
       "1    132  2011-12-15      Std  ACORN-E      Affluent       0.66   \n",
       "2    221  2011-12-15      Std  ACORN-E      Affluent       0.66   \n",
       "3    228  2011-12-15      Std  ACORN-E      Affluent       0.66   \n",
       "4    234  2011-12-15      Std  ACORN-E      Affluent       0.66   \n",
       "\n",
       "   temperatureMax  apparentTemperatureMax  uvIndex  humidity  pressure  \\\n",
       "0            7.97                    4.38      1.0      0.77    996.75   \n",
       "1            7.97                    4.38      1.0      0.77    996.75   \n",
       "2            7.97                    4.38      1.0      0.77    996.75   \n",
       "3            7.97                    4.38      1.0      0.77    996.75   \n",
       "4            7.97                    4.38      1.0      0.77    996.75   \n",
       "\n",
       "   dayOfYear  stdorToU_  Acorn_  Acorn_grouped_  day_  \n",
       "0        349          0       4               2     0  \n",
       "1        349          0       4               2     0  \n",
       "2        349          0       4               2     0  \n",
       "3        349          0       4               2     0  \n",
       "4        349          0       4               2     0  "
      ]
     },
     "execution_count": 31,
     "metadata": {},
     "output_type": "execute_result"
    }
   ],
   "source": [
    "combined_ml_x.head()"
   ]
  },
  {
   "cell_type": "code",
   "execution_count": 32,
   "metadata": {},
   "outputs": [],
   "source": [
    "combined_ml_x = combined_ml_x.drop(categories, axis = 1)"
   ]
  },
  {
   "cell_type": "code",
   "execution_count": 33,
   "metadata": {},
   "outputs": [
    {
     "data": {
      "text/html": [
       "<div>\n",
       "<style scoped>\n",
       "    .dataframe tbody tr th:only-of-type {\n",
       "        vertical-align: middle;\n",
       "    }\n",
       "\n",
       "    .dataframe tbody tr th {\n",
       "        vertical-align: top;\n",
       "    }\n",
       "\n",
       "    .dataframe thead th {\n",
       "        text-align: right;\n",
       "    }\n",
       "</style>\n",
       "<table border=\"1\" class=\"dataframe\">\n",
       "  <thead>\n",
       "    <tr style=\"text-align: right;\">\n",
       "      <th></th>\n",
       "      <th>LCLid</th>\n",
       "      <th>moonPhase</th>\n",
       "      <th>temperatureMax</th>\n",
       "      <th>apparentTemperatureMax</th>\n",
       "      <th>uvIndex</th>\n",
       "      <th>humidity</th>\n",
       "      <th>pressure</th>\n",
       "      <th>dayOfYear</th>\n",
       "      <th>stdorToU_</th>\n",
       "      <th>Acorn_</th>\n",
       "      <th>Acorn_grouped_</th>\n",
       "      <th>day_</th>\n",
       "    </tr>\n",
       "  </thead>\n",
       "  <tbody>\n",
       "    <tr>\n",
       "      <th>0</th>\n",
       "      <td>131</td>\n",
       "      <td>0.66</td>\n",
       "      <td>7.97</td>\n",
       "      <td>4.38</td>\n",
       "      <td>1.0</td>\n",
       "      <td>0.77</td>\n",
       "      <td>996.75</td>\n",
       "      <td>349</td>\n",
       "      <td>0</td>\n",
       "      <td>4</td>\n",
       "      <td>2</td>\n",
       "      <td>0</td>\n",
       "    </tr>\n",
       "    <tr>\n",
       "      <th>1</th>\n",
       "      <td>132</td>\n",
       "      <td>0.66</td>\n",
       "      <td>7.97</td>\n",
       "      <td>4.38</td>\n",
       "      <td>1.0</td>\n",
       "      <td>0.77</td>\n",
       "      <td>996.75</td>\n",
       "      <td>349</td>\n",
       "      <td>0</td>\n",
       "      <td>4</td>\n",
       "      <td>2</td>\n",
       "      <td>0</td>\n",
       "    </tr>\n",
       "    <tr>\n",
       "      <th>2</th>\n",
       "      <td>221</td>\n",
       "      <td>0.66</td>\n",
       "      <td>7.97</td>\n",
       "      <td>4.38</td>\n",
       "      <td>1.0</td>\n",
       "      <td>0.77</td>\n",
       "      <td>996.75</td>\n",
       "      <td>349</td>\n",
       "      <td>0</td>\n",
       "      <td>4</td>\n",
       "      <td>2</td>\n",
       "      <td>0</td>\n",
       "    </tr>\n",
       "    <tr>\n",
       "      <th>3</th>\n",
       "      <td>228</td>\n",
       "      <td>0.66</td>\n",
       "      <td>7.97</td>\n",
       "      <td>4.38</td>\n",
       "      <td>1.0</td>\n",
       "      <td>0.77</td>\n",
       "      <td>996.75</td>\n",
       "      <td>349</td>\n",
       "      <td>0</td>\n",
       "      <td>4</td>\n",
       "      <td>2</td>\n",
       "      <td>0</td>\n",
       "    </tr>\n",
       "    <tr>\n",
       "      <th>4</th>\n",
       "      <td>234</td>\n",
       "      <td>0.66</td>\n",
       "      <td>7.97</td>\n",
       "      <td>4.38</td>\n",
       "      <td>1.0</td>\n",
       "      <td>0.77</td>\n",
       "      <td>996.75</td>\n",
       "      <td>349</td>\n",
       "      <td>0</td>\n",
       "      <td>4</td>\n",
       "      <td>2</td>\n",
       "      <td>0</td>\n",
       "    </tr>\n",
       "    <tr>\n",
       "      <th>...</th>\n",
       "      <td>...</td>\n",
       "      <td>...</td>\n",
       "      <td>...</td>\n",
       "      <td>...</td>\n",
       "      <td>...</td>\n",
       "      <td>...</td>\n",
       "      <td>...</td>\n",
       "      <td>...</td>\n",
       "      <td>...</td>\n",
       "      <td>...</td>\n",
       "      <td>...</td>\n",
       "      <td>...</td>\n",
       "    </tr>\n",
       "    <tr>\n",
       "      <th>49995</th>\n",
       "      <td>4533</td>\n",
       "      <td>0.58</td>\n",
       "      <td>15.39</td>\n",
       "      <td>15.39</td>\n",
       "      <td>2.0</td>\n",
       "      <td>0.81</td>\n",
       "      <td>1036.42</td>\n",
       "      <td>70</td>\n",
       "      <td>0</td>\n",
       "      <td>16</td>\n",
       "      <td>1</td>\n",
       "      <td>86</td>\n",
       "    </tr>\n",
       "    <tr>\n",
       "      <th>49996</th>\n",
       "      <td>4540</td>\n",
       "      <td>0.58</td>\n",
       "      <td>15.39</td>\n",
       "      <td>15.39</td>\n",
       "      <td>2.0</td>\n",
       "      <td>0.81</td>\n",
       "      <td>1036.42</td>\n",
       "      <td>70</td>\n",
       "      <td>0</td>\n",
       "      <td>16</td>\n",
       "      <td>1</td>\n",
       "      <td>86</td>\n",
       "    </tr>\n",
       "    <tr>\n",
       "      <th>49997</th>\n",
       "      <td>4541</td>\n",
       "      <td>0.58</td>\n",
       "      <td>15.39</td>\n",
       "      <td>15.39</td>\n",
       "      <td>2.0</td>\n",
       "      <td>0.81</td>\n",
       "      <td>1036.42</td>\n",
       "      <td>70</td>\n",
       "      <td>0</td>\n",
       "      <td>16</td>\n",
       "      <td>1</td>\n",
       "      <td>86</td>\n",
       "    </tr>\n",
       "    <tr>\n",
       "      <th>49998</th>\n",
       "      <td>4544</td>\n",
       "      <td>0.58</td>\n",
       "      <td>15.39</td>\n",
       "      <td>15.39</td>\n",
       "      <td>2.0</td>\n",
       "      <td>0.81</td>\n",
       "      <td>1036.42</td>\n",
       "      <td>70</td>\n",
       "      <td>0</td>\n",
       "      <td>16</td>\n",
       "      <td>1</td>\n",
       "      <td>86</td>\n",
       "    </tr>\n",
       "    <tr>\n",
       "      <th>49999</th>\n",
       "      <td>4558</td>\n",
       "      <td>0.58</td>\n",
       "      <td>15.39</td>\n",
       "      <td>15.39</td>\n",
       "      <td>2.0</td>\n",
       "      <td>0.81</td>\n",
       "      <td>1036.42</td>\n",
       "      <td>70</td>\n",
       "      <td>0</td>\n",
       "      <td>16</td>\n",
       "      <td>1</td>\n",
       "      <td>86</td>\n",
       "    </tr>\n",
       "  </tbody>\n",
       "</table>\n",
       "<p>50000 rows × 12 columns</p>\n",
       "</div>"
      ],
      "text/plain": [
       "       LCLid  moonPhase  temperatureMax  apparentTemperatureMax  uvIndex  \\\n",
       "0        131       0.66            7.97                    4.38      1.0   \n",
       "1        132       0.66            7.97                    4.38      1.0   \n",
       "2        221       0.66            7.97                    4.38      1.0   \n",
       "3        228       0.66            7.97                    4.38      1.0   \n",
       "4        234       0.66            7.97                    4.38      1.0   \n",
       "...      ...        ...             ...                     ...      ...   \n",
       "49995   4533       0.58           15.39                   15.39      2.0   \n",
       "49996   4540       0.58           15.39                   15.39      2.0   \n",
       "49997   4541       0.58           15.39                   15.39      2.0   \n",
       "49998   4544       0.58           15.39                   15.39      2.0   \n",
       "49999   4558       0.58           15.39                   15.39      2.0   \n",
       "\n",
       "       humidity  pressure  dayOfYear  stdorToU_  Acorn_  Acorn_grouped_  day_  \n",
       "0          0.77    996.75        349          0       4               2     0  \n",
       "1          0.77    996.75        349          0       4               2     0  \n",
       "2          0.77    996.75        349          0       4               2     0  \n",
       "3          0.77    996.75        349          0       4               2     0  \n",
       "4          0.77    996.75        349          0       4               2     0  \n",
       "...         ...       ...        ...        ...     ...             ...   ...  \n",
       "49995      0.81   1036.42         70          0      16               1    86  \n",
       "49996      0.81   1036.42         70          0      16               1    86  \n",
       "49997      0.81   1036.42         70          0      16               1    86  \n",
       "49998      0.81   1036.42         70          0      16               1    86  \n",
       "49999      0.81   1036.42         70          0      16               1    86  \n",
       "\n",
       "[50000 rows x 12 columns]"
      ]
     },
     "execution_count": 33,
     "metadata": {},
     "output_type": "execute_result"
    }
   ],
   "source": [
    "combined_ml_x"
   ]
  },
  {
   "cell_type": "code",
   "execution_count": 34,
   "metadata": {},
   "outputs": [
    {
     "data": {
      "text/plain": [
       "0     9\n",
       "1     9\n",
       "2    21\n",
       "3     9\n",
       "4    25\n",
       "Name: energy_sum, dtype: int64"
      ]
     },
     "execution_count": 34,
     "metadata": {},
     "output_type": "execute_result"
    }
   ],
   "source": [
    "combined_ml_y.head()"
   ]
  },
  {
   "cell_type": "markdown",
   "metadata": {},
   "source": [
    "# Train Test Split"
   ]
  },
  {
   "cell_type": "code",
   "execution_count": 35,
   "metadata": {},
   "outputs": [],
   "source": [
    "X_train, X_test, y_train, y_test = train_test_split(combined_ml_x, combined_ml_y, test_size=0.20, random_state=42)"
   ]
  },
  {
   "cell_type": "markdown",
   "metadata": {},
   "source": [
    "# Linear Regression"
   ]
  },
  {
   "cell_type": "code",
   "execution_count": 36,
   "metadata": {},
   "outputs": [],
   "source": [
    "# Performing Linear Regression using selected variables"
   ]
  },
  {
   "cell_type": "code",
   "execution_count": 37,
   "metadata": {},
   "outputs": [
    {
     "name": "stdout",
     "output_type": "stream",
     "text": [
      "7.687153692467311\n"
     ]
    }
   ],
   "source": [
    "reg = LinearRegression()\n",
    "model1= reg.fit(X_train, y_train)\n",
    "y_hat_test = model1.predict(X_test)\n",
    "# Squared Mean Error score and Root Mean Squared Error:\n",
    "test_mse = mean_squared_error(y_test, y_hat_test)\n",
    "test_rmse = np.sqrt(test_mse)\n",
    "# Mean Absolute Error\n",
    "test_mae_LR = mean_absolute_error(y_test, y_hat_test)\n",
    "print(test_mae_LR)"
   ]
  },
  {
   "cell_type": "code",
   "execution_count": 38,
   "metadata": {},
   "outputs": [],
   "source": [
    "cv = RepeatedKFold(n_splits=10, n_repeats=3, random_state=1)\n",
    "lr_score = cross_val_score(model1, X_train, y_train, cv=cv, scoring='r2').mean()"
   ]
  },
  {
   "cell_type": "markdown",
   "metadata": {},
   "source": [
    "# KNN Regression"
   ]
  },
  {
   "cell_type": "code",
   "execution_count": 39,
   "metadata": {},
   "outputs": [],
   "source": [
    "n = 5"
   ]
  },
  {
   "cell_type": "code",
   "execution_count": 40,
   "metadata": {},
   "outputs": [
    {
     "name": "stdout",
     "output_type": "stream",
     "text": [
      "7.20822\n"
     ]
    }
   ],
   "source": [
    "neigh = KNeighborsRegressor(n_neighbors=n)\n",
    "model2= neigh.fit(X_train, y_train)\n",
    "y_hat_test = model2.predict(X_test)\n",
    "# Squared Mean Error score and Root Mean Squared Error:\n",
    "test_mse = mean_squared_error(y_test, y_hat_test)\n",
    "test_rmse = np.sqrt(test_mse)\n",
    "# Mean Absolute Error\n",
    "test_mae_KNN_Reg = mean_absolute_error(y_test, y_hat_test)\n",
    "print(test_mae_KNN_Reg)"
   ]
  },
  {
   "cell_type": "code",
   "execution_count": 41,
   "metadata": {},
   "outputs": [],
   "source": [
    "cv = RepeatedKFold(n_splits=10, n_repeats=3, random_state=1)\n",
    "knn_reg_score = cross_val_score(model2, X_train, y_train, cv=cv, scoring='r2').mean()"
   ]
  },
  {
   "cell_type": "markdown",
   "metadata": {},
   "source": [
    "# KNN Classification"
   ]
  },
  {
   "cell_type": "code",
   "execution_count": 42,
   "metadata": {},
   "outputs": [
    {
     "name": "stdout",
     "output_type": "stream",
     "text": [
      "8.2378\n"
     ]
    }
   ],
   "source": [
    "from sklearn.neighbors import KNeighborsClassifier\n",
    "KNN_C = KNeighborsClassifier(n_neighbors=n)\n",
    "model3= KNN_C.fit(X_train, y_train)\n",
    "y_hat_test = model3.predict(X_test)\n",
    "# Squared Mean Error score and Root Mean Squared Error:\n",
    "test_mse = mean_squared_error(y_test, y_hat_test)\n",
    "test_rmse = np.sqrt(test_mse)\n",
    "# Mean Absolute Error\n",
    "test_mae_KNN_Class = mean_absolute_error(y_test, y_hat_test)\n",
    "print(test_mae_KNN_Class)"
   ]
  },
  {
   "cell_type": "code",
   "execution_count": 43,
   "metadata": {},
   "outputs": [],
   "source": [
    "cv = RepeatedKFold(n_splits=10, n_repeats=3, random_state=1)\n",
    "knn_class_score = cross_val_score(model3, X_train, y_train, cv=cv, scoring='r2').mean()"
   ]
  },
  {
   "cell_type": "markdown",
   "metadata": {},
   "source": [
    "# Naive Bayes"
   ]
  },
  {
   "cell_type": "code",
   "execution_count": 44,
   "metadata": {},
   "outputs": [
    {
     "name": "stdout",
     "output_type": "stream",
     "text": [
      "35.0398\n"
     ]
    }
   ],
   "source": [
    "from sklearn.naive_bayes import GaussianNB\n",
    "GNB = GaussianNB()\n",
    "# fit the model with the training data\n",
    "model4=GNB.fit(X_train, y_train)\n",
    "y_hat_test = model4.predict(X_test)\n",
    "# Squared Mean Error score and Root Mean Squared Error:\n",
    "test_mse = mean_squared_error(y_test, y_hat_test)\n",
    "test_rmse = np.sqrt(test_mse)\n",
    "# Mean Absolute Error\n",
    "test_mae_GNB = mean_absolute_error(y_test, y_hat_test)\n",
    "print(test_mae_GNB)"
   ]
  },
  {
   "cell_type": "code",
   "execution_count": 45,
   "metadata": {},
   "outputs": [],
   "source": [
    "cv = RepeatedKFold(n_splits=10, n_repeats=3, random_state=1)\n",
    "Naive_score = cross_val_score(model4, X_train, y_train, cv=cv, scoring='r2').mean()"
   ]
  },
  {
   "cell_type": "markdown",
   "metadata": {},
   "source": [
    "# Ridge Regression"
   ]
  },
  {
   "cell_type": "code",
   "execution_count": 46,
   "metadata": {},
   "outputs": [
    {
     "name": "stdout",
     "output_type": "stream",
     "text": [
      "7.687155778092921\n"
     ]
    }
   ],
   "source": [
    "Ridge_reg = Ridge(alpha=1.0)\n",
    "model5 = Ridge_reg.fit(X_train, y_train)\n",
    "y_hat_test = model5.predict(X_test)\n",
    "# Squared Mean Error score and Root Mean Squared Error:\n",
    "test_mse = mean_squared_error(y_test, y_hat_test)\n",
    "test_rmse = np.sqrt(test_mse)\n",
    "# Mean Absolute Error\n",
    "test_mae_RR = mean_absolute_error(y_test, y_hat_test)\n",
    "print(test_mae_RR)"
   ]
  },
  {
   "cell_type": "code",
   "execution_count": 47,
   "metadata": {},
   "outputs": [],
   "source": [
    "cv = RepeatedKFold(n_splits=10, n_repeats=3, random_state=1)\n",
    "Ridge_reg_score = cross_val_score(model5, X_train, y_train, cv=cv, scoring='r2').mean()"
   ]
  },
  {
   "cell_type": "markdown",
   "metadata": {},
   "source": [
    "# Plotting MAE for all the Models for comparision"
   ]
  },
  {
   "cell_type": "code",
   "execution_count": 48,
   "metadata": {},
   "outputs": [
    {
     "data": {
      "image/png": "[encoded data removed]",
      "text/plain": [
       "<Figure size 864x576 with 1 Axes>"
      ]
     },
     "metadata": {
      "needs_background": "light"
     },
     "output_type": "display_data"
    }
   ],
   "source": [
    "f = plt.figure(figsize=(12, 8))\n",
    "a = plt.axes()\n",
    " \n",
    "col = [test_mae_LR, test_mae_KNN_Reg, test_mae_KNN_Class, test_mae_GNB, test_mae_RR]\n",
    " \n",
    "MAE = [10, 15, 20, 25, 30]\n",
    " \n",
    "# labels for bars\n",
    "tick_label = ['test_mae_LR', 'test_mae_KNN_Reg', 'test_mae_KNN_Class', 'test_mae_GNB', 'test_mae_RR']\n",
    " \n",
    "# plotting a bar chart\n",
    "a.bar(MAE, col, tick_label = tick_label)\n",
    " \n",
    "# plot title\n",
    "plt.title('MAE for all Models')\n",
    " \n",
    "# function to show the plot\n",
    "plt.show()"
   ]
  },
  {
   "cell_type": "markdown",
   "metadata": {},
   "source": [
    "Observations :\n",
    "    \n",
    "    1. MAE can range from 0 to infinity and these are negatively-oriented scores. The lower values of MAE are better. \n",
    "    \n",
    "    2. It can be seen that the MAE for KNN regression is the lowest of all the other models which means the model has better efficiency to predict accurate results. This also means that the model is better in comprison to other models and is robust to the effects of outliers. The model has highest tendency to make predictions that matches the expected values exactly bringing stability and more efficiency.\n",
    "    "
   ]
  },
  {
   "cell_type": "markdown",
   "metadata": {},
   "source": [
    "# Selecting best model"
   ]
  },
  {
   "cell_type": "code",
   "execution_count": 49,
   "metadata": {},
   "outputs": [],
   "source": [
    "best_model = reg.fit(X_train, y_train) if(lr_score > (knn_reg_score and knn_class_score and Naive_score and Ridge_reg_score)) else neigh.fit(X_train, y_train)  if(knn_reg_score > (lr_score and knn_class_score and Naive_score and Ridge_reg_score)) else KNN_C.fit(X_train, y_train)  if(knn_class_score > (lr_score and knn_reg_score and Naive_score and Ridge_reg_score)) else GNB.fit(X_train, y_train)  if(Naive_score > (lr_score and knn_class_score and knn_reg_score and Ridge_reg_score)) else Ridge_reg.fit(X_train, y_train)       "
   ]
  },
  {
   "cell_type": "code",
   "execution_count": 50,
   "metadata": {},
   "outputs": [
    {
     "data": {
      "text/plain": [
       "KNeighborsRegressor()"
      ]
     },
     "execution_count": 50,
     "metadata": {},
     "output_type": "execute_result"
    }
   ],
   "source": [
    "best_model "
   ]
  },
  {
   "cell_type": "markdown",
   "metadata": {},
   "source": [
    "# Export training data and models"
   ]
  },
  {
   "cell_type": "code",
   "execution_count": 52,
   "metadata": {},
   "outputs": [],
   "source": [
    "import pickle\n",
    "\n",
    "model_data = {\n",
    "    'test_data': X_test,\n",
    "    'test_targets': y_test,\n",
    "    'best_model': best_model\n",
    "}\n",
    "save_path = open(\"model.pickle\",\"wb\")\n",
    "pickle.dump(model_data, save_path)"
   ]
  },
  {
   "cell_type": "code",
   "execution_count": null,
   "metadata": {},
   "outputs": [],
   "source": []
  }
 ],
 "metadata": {
  "kernelspec": {
   "display_name": "Python 3",
   "language": "python",
   "name": "python3"
  },
  "language_info": {
   "codemirror_mode": {
    "name": "ipython",
    "version": 3
   },
   "file_extension": ".py",
   "mimetype": "text/x-python",
   "name": "python",
   "nbconvert_exporter": "python",
   "pygments_lexer": "ipython3",
   "version": "3.8.5"
  }
 },
 "nbformat": 4,
 "nbformat_minor": 4
}
